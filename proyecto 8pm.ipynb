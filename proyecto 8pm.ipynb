{
 "cells": [
  {
   "cell_type": "code",
   "execution_count": 1,
   "id": "23c1ee70",
   "metadata": {},
   "outputs": [],
   "source": [
    "import numpy as np"
   ]
  },
  {
   "cell_type": "code",
   "execution_count": 2,
   "id": "816aa896",
   "metadata": {},
   "outputs": [],
   "source": [
    "carga_inicial = 20\n",
    "diferencial_de_carga = 0.25\n",
    "carga_final = carga_inicial + 18 * diferencial_de_carga\n",
    "\n",
    "distancia_AD = 1\n",
    "distancia_AB = 2\n",
    "distancia_BC = 2\n",
    "distancia_AC = distancia_AB + distancia_BC\n",
    "\n",
    "angulo_barra_inclinada = np.arctan(distancia_AD / distancia_BC)\n",
    "angulo_barra_inclinada_AE = np.arctan(distancia_AD / distancia_AB)"
   ]
  },
  {
   "cell_type": "code",
   "execution_count": 8,
   "id": "b2cb0786",
   "metadata": {},
   "outputs": [
    {
     "data": {
      "text/plain": [
       "array([20.  , 20.25, 20.5 , 20.75, 21.  , 21.25, 21.5 , 21.75, 22.  ,\n",
       "       22.25, 22.5 , 22.75, 23.  , 23.25, 23.5 , 23.75, 24.  , 24.25,\n",
       "       24.5 ])"
      ]
     },
     "execution_count": 8,
     "metadata": {},
     "output_type": "execute_result"
    }
   ],
   "source": [
    "rango_de_angulos = np.arange(0, 190, 10)\n",
    "rango_de_cargas = np.arange(carga_inicial, carga_final + diferencial_de_carga, diferencial_de_carga)\n",
    "rango_de_cargas"
   ]
  },
  {
   "cell_type": "code",
   "execution_count": 12,
   "id": "0c936039",
   "metadata": {},
   "outputs": [],
   "source": [
    "def calcular_reacciones(carga, angulo, distancia_AC) :\n",
    "    angulo_radianes = (angulo if angulo <= 90 else 180 - angulo) * np.pi / 180\n",
    "    Ay = (-1 if angulo <= 90 else 1) * carga * np.cos(angulo_radianes)\n",
    "    Dx = (-1 if angulo <= 90 else 1) * distancia_AC * carga * np.cos(angulo_radianes)\n",
    "    Ax = - Dy- carga * np.sin(angulo_radianes)\n",
    "    return Ax, Ay, Dx"
   ]
  },
  {
   "cell_type": "code",
   "execution_count": 18,
   "id": "a9befeb2",
   "metadata": {},
   "outputs": [],
   "source": [
    "def obtener_fuerzas_nodo_C(carga, angulo):\n",
    "    angulo_radianes = (angulo if angulo <= 90 else 180 - angulo) * np.pi / 180\n",
    "    CE = (1 if angulo <= 90 else -1) * carga * np.cos(angulo_radianes) / np.sin(angulo_barra_inclinada)\n",
    "    BC = carga * np.sin(angulo_radianes) - CE* np.cos(angulo_barra_inclinada)\n",
    "    return CE, BC\n",
    "\n",
    "\n",
    "def obtener_fuerzas_nodo_B(fuerza_BC):\n",
    "    BA = fuerza_BC\n",
    "    BE = 0\n",
    "    return BA, BE\n",
    "\n",
    "\n",
    "def obtener_fuerzas_nodo_E(fuerza_CE, angulo_barra_inclinada_AE):\n",
    "    EA = - Fuerza_CE * np.sin(angulo_barra_inclinada) / np.sin(angulo_barra_inclinada_AE)\n",
    "    ED = - EA * np.cos(angulo_barra_inclinada_AE) + fuerza_CE * np.cos(angulo_barra_inclinada)\n",
    "    return EA, ED\n",
    "\n",
    "\n",
    "def obtener_fuerzas_nodo_D(fuerza_Dx):\n",
    "    ED = - fuerza_Dx\n",
    "    DA = 0\n",
    "    return ED, DA\n",
    "\n",
    "\n",
    "def obtener_fuerzas_nodo_A(Ax, Ay, angulo_barra_inclinada_AE):\n",
    "    AE = Ay / np.sin(angulo_barra_inclinada_AE)\n",
    "    AB = - AX - AE * np.cos(angulo_barra_inclinada_AE)\n",
    "    return AE, AB"
   ]
  },
  {
   "cell_type": "code",
   "execution_count": 6,
   "id": "23e90950",
   "metadata": {},
   "outputs": [
    {
     "ename": "SyntaxError",
     "evalue": "invalid syntax (<ipython-input-6-173b16d6f0b9>, line 2)",
     "output_type": "error",
     "traceback": [
      "\u001b[0;36m  File \u001b[0;32m\"<ipython-input-6-173b16d6f0b9>\"\u001b[0;36m, line \u001b[0;32m2\u001b[0m\n\u001b[0;31m    for angulo, carga in zip(rango_de_angulos, rango_ de_ cargas) :\u001b[0m\n\u001b[0m                                                        ^\u001b[0m\n\u001b[0;31mSyntaxError\u001b[0m\u001b[0;31m:\u001b[0m invalid syntax\n"
     ]
    }
   ],
   "source": [
    "fuerza_maxima = np.array([0, 0, 0, 0, 0, 0, 0])\n",
    "for angulo, carga in zip(rango_de_angulos, rango_ de_ cargas) :\n",
    "Ax, Ay, Dx = calcular_reacciones(carga, angulo, distancia_AC)\n",
    "CE, BC = obtener_fuerzas_nodo_C(carga, angulo)\n",
    "BA, BE = obtener_fuerzas_nodo_B(BC)\n",
    "EA, ED = obtener fuerzas_nodo_E(CE, angulo_barra_inclinada_AE)\n",
    "DE, DA a obtener_fuerzas_nodo D(Dx)\n",
    "AE, AB = obtener_fuerzas_nodo_A(Ax, Ay, angulo_barra_ inclinada_AE)\n",
    "print (f\"Reacciones angulo {angulo} grados: \")\n",
    "print (Ax, Ay, Dx)\n",
    "print (\"Fuerzas internas:\")\n",
    "\n",
    "\n",
    "\n",
    "\n",
    "\n",
    "CE, BC = obtener_fuerzas_nodo_(carga, angulo)\n",
    "BA, BE = obtener_fuerzas_nodo_B(BC)\n",
    "EA, ED = obtener_fuerzas_ nodo_ E(CE, angulo_barra_inclinada_AE)\n",
    "DE, DA = obtener_fuerzas_nodo_D(Dx)\n",
    "AE, AB = obtener_fuerzas_nodo_A(AX, Ay, angulo_barra_inclinada_AE)\n",
    "print ((f\"Reacciones angulo {angulo} grados: \")\n",
    "print(x, Ay, Dx)\n",
    "print (\"Fuerzas internas: \")\n",
    "print(BA, EA, DA, BC, BE, CE, ED)\n",
    "print(f\"{AE} == {EA}, {AB} == {BA}, {DE} == {ED}\")\n",
    "print()\n",
    "\n",
    "fuerza_maxima[0] = BA if np.absolute(BA) › fuerza maxima[0] else fuerza_maxima[0]\n",
    "fuerza_maxima[1] = BC if np.absolute(BC) › fuerza maxima[1] else fuerza_maxima[1]]\n",
    "fuerza_maxima[2] = CE if np.absolute(CE) › fuerza maxima[2] else fuerza_maxima[2]\n",
    "fuerza_maxima[3] = ED if np.absolute(ED) › fuerza maxima[3] else fuerza_maxima[3]\n",
    "fuerza_maxima[4] = EA if np.absolute(EA) › fuerza maxima[4] else fuerza_maxima[4]\n",
    "fuerza_maxima[5] = DA if np.absolute(DA) › fuerza maxima[5] else fuerza_maxima[5]       \n",
    "fuerza_maxima[6] = BE if np.absolute(BE) › fuerza maxima[6] else fuerza_maxima[6]\n",
    "\n",
    "print(fuerza_maxima)"
   ]
  },
  {
   "cell_type": "code",
   "execution_count": null,
   "id": "79e7b6ee",
   "metadata": {},
   "outputs": [],
   "source": []
  }
 ],
 "metadata": {
  "kernelspec": {
   "display_name": "Python 3",
   "language": "python",
   "name": "python3"
  },
  "language_info": {
   "codemirror_mode": {
    "name": "ipython",
    "version": 3
   },
   "file_extension": ".py",
   "mimetype": "text/x-python",
   "name": "python",
   "nbconvert_exporter": "python",
   "pygments_lexer": "ipython3",
   "version": "3.6.13"
  }
 },
 "nbformat": 4,
 "nbformat_minor": 5
}
