{
 "cells": [
  {
   "cell_type": "code",
   "execution_count": 1,
   "id": "7ffaf51e",
   "metadata": {},
   "outputs": [],
   "source": [
    "import numpy as np"
   ]
  },
  {
   "cell_type": "code",
   "execution_count": 2,
   "id": "7029d714",
   "metadata": {},
   "outputs": [],
   "source": [
    "carga_inicial = 20\n",
    "diferencial_de_carga = 0.25\n",
    "carga_final = carga_inicial + 18 * diferencial_de_carga\n",
    "\n",
    "distancia_AD = 1\n",
    "distancia_AB = 2\n",
    "distancia_BC = 2\n",
    "distancia_AC = distancia_AB + distancia_BC\n",
    "\n",
    "angulo_barra_inclinada = np.arctan(distancia_AD / distancia_BC)\n",
    "angulo_barra_inclinada_AE = np.arctan(distancia_AD / distancia_AB)"
   ]
  },
  {
   "cell_type": "code",
   "execution_count": 5,
   "id": "50465a9b",
   "metadata": {},
   "outputs": [
    {
     "data": {
      "text/plain": [
       "array([20.  , 20.25, 20.5 , 20.75, 21.  , 21.25, 21.5 , 21.75, 22.  ,\n",
       "       22.25, 22.5 , 22.75, 23.  , 23.25, 23.5 , 23.75, 24.  , 24.25,\n",
       "       24.5 ])"
      ]
     },
     "execution_count": 5,
     "metadata": {},
     "output_type": "execute_result"
    }
   ],
   "source": [
    "rango_de_angulos = np.arange(0, 190, 10)\n",
    "rango_de_cargas = np.arange(carga_inicial, carga_final + diferencial_de_carga, diferencial_de_carga)\n",
    "rango_de_cargas"
   ]
  },
  {
   "cell_type": "code",
   "execution_count": 6,
   "id": "9f104f98",
   "metadata": {},
   "outputs": [],
   "source": [
    "def calcular_reacciones(carga, angulo, distancia_AC) :\n",
    "    angulo_radianes = (angulo if angulo <= 90 else 180 - angulo) * np.pi / 180\n",
    "    Ay = (-1 if angulo <= 90 else 1) * carga * np.cos(angulo_radianes)\n",
    "    Dx = (-1 if angulo <= 90 else 1) * distancia_AC * carga * np.cos(angulo_radianes)\n",
    "    Ax = - Dx- carga * np.sin(angulo_radianes)\n",
    "    return Ax, Ay, Dx"
   ]
  },
  {
   "cell_type": "code",
   "execution_count": 7,
   "id": "ebeb4d4f",
   "metadata": {},
   "outputs": [],
   "source": [
    "def obtener_fuerzas_nodo_C(carga, angulo):\n",
    "    angulo_radianes = (angulo if angulo <= 90 else 180 - angulo) * np.pi / 180\n",
    "    CE = (1 if angulo <= 90 else -1) * carga * np.cos(angulo_radianes) / np.sin(angulo_barra_inclinada)\n",
    "    BC = carga * np.sin(angulo_radianes) - CE* np.cos(angulo_barra_inclinada)\n",
    "    return CE, BC\n",
    "\n",
    "\n",
    "def obtener_fuerzas_nodo_B(fuerza_BC):\n",
    "    BA = fuerza_BC\n",
    "    BE = 0\n",
    "    return BA, BE\n",
    "\n",
    "\n",
    "def obtener_fuerzas_nodo_E(fuerza_CE, angulo_barra_inclinada_AE):\n",
    "    EA = - fuerza_CE * np.sin(angulo_barra_inclinada) / np.sin(angulo_barra_inclinada_AE)\n",
    "    ED = - EA * np.cos(angulo_barra_inclinada_AE) + fuerza_CE * np.cos(angulo_barra_inclinada)\n",
    "    return EA, ED\n",
    "\n",
    "\n",
    "def obtener_fuerzas_nodo_D(fuerza_Dx):\n",
    "    ED = - fuerza_Dx\n",
    "    DA = 0\n",
    "    return ED, DA\n",
    "\n",
    "\n",
    "def obtener_fuerzas_nodo_A(Ax, Ay, angulo_barra_inclinada_AE):\n",
    "    AE = Ay / np.sin(angulo_barra_inclinada_AE)\n",
    "    AB = - Ax - AE * np.cos(angulo_barra_inclinada_AE)\n",
    "    return AE, AB"
   ]
  },
  {
   "cell_type": "code",
   "execution_count": 8,
   "id": "d2ae4916",
   "metadata": {},
   "outputs": [
    {
     "name": "stdout",
     "output_type": "stream",
     "text": [
      "Reacciones angulo 0 grados: \n",
      "80.0 -20.0 -80.0\n",
      "Fuerzas internas:\n",
      "-40.0 -44.721359549995796 0 -40.0 0 44.721359549995796 80.0\n",
      "-44.721359549995796 == -44.721359549995796, -40.0 == -40.0, 80.0 == 80.0\n",
      "\n",
      "[-40 -40  44  80 -44   0   0]\n",
      "Reacciones angulo 10 grados: \n",
      "76.25305239623351 -19.942356998497214 -79.76942799398886\n",
      "Fuerzas internas:\n",
      "-36.368338399239086 -44.592465880208444 0 -36.368338399239086 0 44.592465880208444 79.76942799398886\n",
      "-44.592465880208444 == -44.592465880208444, -36.368338399239086 == -36.368338399239086, 79.76942799398886 == 79.76942799398886\n",
      "\n",
      "[-36 -36  44  80 -44   0   0]\n",
      "Reacciones angulo 20 grados: \n",
      "70.04338196626829 -19.263698726111123 -77.05479490444449\n",
      "Fuerzas internas:\n",
      "-31.51598451404604 -43.07493984966057 0 -31.51598451404604 0 43.07493984966057 77.05479490444449\n",
      "-43.07493984966057 == -43.07493984966057, -31.51598451404604 == -31.51598451404604, 77.05479490444449 == 77.05479490444449\n",
      "\n",
      "[-31 -31  44  80 -43   0   0]\n",
      "Reacciones angulo 30 grados: \n",
      "61.505108514108414 -17.970027128527104 -71.88010851410841\n",
      "Fuerzas internas:\n",
      "-25.565054257054207 -40.182202216901956 0 -25.565054257054207 0 40.182202216901956 71.88010851410841\n",
      "-40.182202216901956 == -40.182202216901956, -25.565054257054207 == -25.565054257054207, 71.88010851410841 == 71.88010851410841\n",
      "\n",
      "[-25 -25  44  80 -40   0   0]\n",
      "Reacciones angulo 40 grados: \n",
      "50.849193418576824 -16.086933305498537 -64.34773322199415\n",
      "Fuerzas internas:\n",
      "-18.67532680757975 -35.97147642060012 0 -18.67532680757975 0 35.97147642060012 64.34773322199415\n",
      "-35.97147642060012 == -35.97147642060012, -18.67532680757975 == -18.67532680757975, 64.34773322199415 == 64.34773322199415\n",
      "\n",
      "[-18 -18  44  80 -35   0   0]\n",
      "Reacciones angulo 50 grados: \n",
      "38.358502407077566 -13.659236705838962 -54.63694682335585\n",
      "Fuerzas internas:\n",
      "-11.040028995399641 -30.542981795016217 0 -11.040028995399641 0 30.542981795016217 54.63694682335585\n",
      "-30.542981795016217 == -30.542981795016217, -11.040028995399641 == -11.040028995399641, 54.63694682335585 == 54.63694682335585\n",
      "\n",
      "[-11 -11  44  80 -30   0   0]\n",
      "Reacciones angulo 60 grados: \n",
      "24.380453818634578 -10.750000000000002 -43.00000000000001\n",
      "Fuerzas internas:\n",
      "-2.8804538186345745 -24.037730758122745 0 -2.8804538186345745 0 24.037730758122745 43.00000000000001\n",
      "-24.037730758122745 == -24.037730758122745, -2.8804538186345745 == -2.8804538186345745, 43.00000000000001 == 43.00000000000001\n",
      "\n",
      "[ -2  -2  44  80 -24   0   0]\n",
      "Reacciones angulo 70 grados: \n",
      "9.317437967239684 -7.438938117333297 -29.75575246933319\n",
      "Fuerzas internas:\n",
      "5.56043826742691 -16.63397131077156 0 5.56043826742691 0 16.63397131077156 29.75575246933319\n",
      "-16.63397131077156 == -16.63397131077156, 5.56043826742691 == 5.56043826742691, 29.75575246933319 == 29.75575246933319\n",
      "\n",
      "[  5   5  44  80 -16   0   0]\n",
      "Reacciones angulo 80 grados: \n",
      "-6.3847309315787015 -3.820259908672469 -15.281039634689876\n",
      "Fuerzas internas:\n",
      "14.02525074892364 -8.542360847508778 0 14.02525074892364 0 8.542360847508778 15.281039634689874\n",
      "-8.542360847508778 == -8.542360847508778, 14.02525074892364 == 14.02525074892364, 15.281039634689876 == 15.281039634689874\n",
      "\n",
      "[14 14 44 80 -8  0  0]\n",
      "Reacciones angulo 90 grados: \n",
      "-22.249999999999993 -1.3624195640514305e-15 -5.449678256205722e-15\n",
      "Fuerzas internas:\n",
      "22.249999999999996 -3.0464627590946276e-15 0 22.249999999999996 0 3.0464627590946276e-15 5.449678256205722e-15\n",
      "-3.0464627590946276e-15 == -3.0464627590946276e-15, 22.249999999999996 == 22.249999999999996, 5.449678256205722e-15 == 5.449678256205722e-15\n",
      "\n",
      "[22 22 44 80  0  0  0]\n",
      "Reacciones angulo 100 grados: \n",
      "-37.786510432798416 3.9070839975059344 15.628335990023738\n",
      "Fuerzas internas:\n",
      "29.972342437786548 8.736505412224888 0 29.972342437786548 0 -8.736505412224888 -15.628335990023738\n",
      "8.736505412224888 == 8.736505412224888, 29.972342437786548 == 29.972342437786548, -15.628335990023738 == -15.628335990023738\n",
      "\n",
      "[29 29 44 80  8  0  0]\n",
      "Reacciones angulo 110 grados: \n",
      "-52.501840165515276 7.780958260658966 31.123833042635862\n",
      "Fuerzas internas:\n",
      "36.93992364419735 17.398751600921976 0 36.93992364419735 0 -17.398751600921976 -31.123833042635866\n",
      "17.398751600921976 == 17.398751600921976, 36.93992364419734 == 36.93992364419735, -31.123833042635862 == -31.123833042635866\n",
      "\n",
      "[36 36 44 80 17  0  0]\n",
      "Reacciones angulo 120 grados: \n",
      "-65.9185842870421 11.500000000000002 46.00000000000001\n",
      "Fuerzas internas:\n",
      "42.918584287042094 25.714781741247585 0 42.918584287042094 0 -25.714781741247585 -46.00000000000001\n",
      "25.714781741247585 == 25.714781741247585, 42.918584287042094 == 42.918584287042094, -46.00000000000001 == -46.00000000000001\n",
      "\n",
      "[42 42 44 80 25  0  0]\n",
      "Reacciones angulo 130 grados: \n",
      "-77.5897810033644 14.94481192521204 59.77924770084816\n",
      "Fuerzas internas:\n",
      "47.70015715294032 33.41761537572363 0 47.70015715294032 0 -33.41761537572363 -59.77924770084817\n",
      "33.41761537572363 == 33.41761537572363, 47.70015715294031 == 47.70015715294032, -59.77924770084816 == -59.77924770084817\n",
      "\n",
      "[47 47 44 80 33  0  0]\n",
      "Reacciones angulo 140 grados: \n",
      "-87.1136864808176 18.002044413295984 72.00817765318394\n",
      "Fuerzas internas:\n",
      "51.10959765422564 40.25379504210014 0 51.10959765422564 0 -40.25379504210014 -72.00817765318394\n",
      "40.25379504210014 == 40.25379504210014, 51.10959765422564 == 51.10959765422564, -72.00817765318394 == -72.00817765318394\n",
      "\n",
      "[51 51 44 80 40  0  0]\n",
      "Reacciones angulo 150 grados: \n",
      "-94.14741335952168 20.56810333988042 82.27241335952168\n",
      "Fuerzas internas:\n",
      "53.01120667976084 45.99167723621308 0 53.01120667976084 0 -45.99167723621308 -82.27241335952168\n",
      "45.99167723621308 == 45.99167723621308, 53.01120667976084 == 53.01120667976084, -82.27241335952168 == -82.27241335952168\n",
      "\n",
      "[ 53  53 -45 -82  45   0   0]\n",
      "Reacciones angulo 160 grados: \n",
      "-98.41897503526326 22.552622898861802 90.21049159544721\n",
      "Fuerzas internas:\n",
      "53.313729237539654 50.42919787277336 0 53.313729237539654 0 -50.42919787277336 -90.21049159544721\n",
      "50.42919787277336 == 50.42919787277336, 53.313729237539654 == 53.313729237539654, -90.21049159544721 == -90.21049159544721\n",
      "\n",
      "[ 53  53 -50 -90  50   0   0]\n",
      "Reacciones angulo 170 grados: \n",
      "-99.73732035060723 23.881588010546043 95.52635204218417\n",
      "Fuerzas internas:\n",
      "51.97414432951515 53.40085420222492 0 51.97414432951515 0 -53.40085420222492 -95.52635204218417\n",
      "53.40085420222492 == 53.40085420222492, 51.97414432951515 == 51.97414432951515, -95.52635204218417 == -95.52635204218417\n",
      "\n",
      "[ 53  53 -53 -95  53   0   0]\n",
      "Reacciones angulo 180 grados: \n",
      "-98.0 24.5 98.0\n",
      "Fuerzas internas:\n",
      "49.0 54.78366544874485 0 49.0 0 -54.78366544874485 -98.0\n",
      "54.78366544874485 == 54.78366544874485, 49.0 == 49.0, -98.0 == -98.0\n",
      "\n",
      "[ 53  53 -54 -98  54   0   0]\n"
     ]
    }
   ],
   "source": [
    "fuerza_maxima = np.array([0, 0, 0, 0, 0, 0, 0])\n",
    "for angulo, carga in zip(rango_de_angulos, rango_de_cargas):\n",
    "    Ax, Ay, Dx = calcular_reacciones(carga, angulo, distancia_AC)\n",
    "    CE, BC = obtener_fuerzas_nodo_C(carga, angulo)\n",
    "    BA, BE = obtener_fuerzas_nodo_B(BC)\n",
    "    EA, ED = obtener_fuerzas_nodo_E(CE, angulo_barra_inclinada_AE)\n",
    "    DE, DA = obtener_fuerzas_nodo_D(Dx)\n",
    "    AE, AB = obtener_fuerzas_nodo_A(Ax, Ay, angulo_barra_inclinada_AE)\n",
    "    print (f\"Reacciones angulo {angulo} grados: \")\n",
    "    print (Ax, Ay, Dx)\n",
    "    print (\"Fuerzas internas:\")\n",
    "    print(BA, EA, DA, BC, BE, CE, ED)\n",
    "    print(f\"{AE} == {EA}, {AB} == {BA}, {DE} == {ED}\")\n",
    "    print()\n",
    "\n",
    "    fuerza_maxima[0] = BA if np.absolute(BA) > fuerza_maxima[0] else fuerza_maxima[0]\n",
    "    fuerza_maxima[1] = BC if np.absolute(BC) > fuerza_maxima[1] else fuerza_maxima[1]\n",
    "    fuerza_maxima[2] = CE if np.absolute(CE) > fuerza_maxima[2] else fuerza_maxima[2]\n",
    "    fuerza_maxima[3] = ED if np.absolute(ED) > fuerza_maxima[3] else fuerza_maxima[3]\n",
    "    fuerza_maxima[4] = EA if np.absolute(EA) > fuerza_maxima[4] else fuerza_maxima[4]\n",
    "    fuerza_maxima[5] = DA if np.absolute(DA) > fuerza_maxima[5] else fuerza_maxima[5]       \n",
    "    fuerza_maxima[6] = BE if np.absolute(BE) > fuerza_maxima[6] else fuerza_maxima[6]\n",
    "    print(fuerza_maxima)"
   ]
  },
  {
   "cell_type": "code",
   "execution_count": 10,
   "id": "e945615d",
   "metadata": {},
   "outputs": [],
   "source": [
    "#PARTE DOS"
   ]
  },
  {
   "cell_type": "code",
   "execution_count": 16,
   "id": "88df72e6",
   "metadata": {},
   "outputs": [],
   "source": [
    "#MPa / N / mm 2\n",
    "esfuerzo_admisible = 21\n",
    "# mm 2\n",
    "area = 1200\n"
   ]
  },
  {
   "cell_type": "code",
   "execution_count": 17,
   "id": "75181184",
   "metadata": {},
   "outputs": [
    {
     "data": {
      "text/plain": [
       "25.2"
      ]
     },
     "execution_count": 17,
     "metadata": {},
     "output_type": "execute_result"
    }
   ],
   "source": [
    "fuerza_maxima = esfuerzo_admisible * area / 1000\n",
    "fuerza_maxima"
   ]
  },
  {
   "cell_type": "code",
   "execution_count": 23,
   "id": "5e36c579",
   "metadata": {},
   "outputs": [
    {
     "ename": "TypeError",
     "evalue": "calcular_reacciones() missing 1 required positional argument: 'distancia_AC'",
     "output_type": "error",
     "traceback": [
      "\u001b[0;31m---------------------------------------------------------------------------\u001b[0m",
      "\u001b[0;31mTypeError\u001b[0m                                 Traceback (most recent call last)",
      "\u001b[0;32m<ipython-input-23-f499600291f4>\u001b[0m in \u001b[0;36m<module>\u001b[0;34m\u001b[0m\n\u001b[1;32m      1\u001b[0m \u001b[0mfuerzas_internas\u001b[0m \u001b[0;34m=\u001b[0m \u001b[0mnp\u001b[0m\u001b[0;34m.\u001b[0m\u001b[0marray\u001b[0m\u001b[0;34m(\u001b[0m\u001b[0;34m[\u001b[0m\u001b[0;36m0\u001b[0m\u001b[0;34m,\u001b[0m \u001b[0;36m0\u001b[0m\u001b[0;34m,\u001b[0m \u001b[0;36m0\u001b[0m\u001b[0;34m,\u001b[0m \u001b[0;36m0\u001b[0m\u001b[0;34m,\u001b[0m \u001b[0;36m0\u001b[0m\u001b[0;34m,\u001b[0m \u001b[0;36m0\u001b[0m\u001b[0;34m,\u001b[0m \u001b[0;36m0\u001b[0m\u001b[0;34m]\u001b[0m\u001b[0;34m)\u001b[0m\u001b[0;34m\u001b[0m\u001b[0;34m\u001b[0m\u001b[0m\n\u001b[1;32m      2\u001b[0m \u001b[0;32mfor\u001b[0m \u001b[0mangulo\u001b[0m\u001b[0;34m,\u001b[0m \u001b[0mcarga\u001b[0m \u001b[0;32min\u001b[0m \u001b[0mzip\u001b[0m\u001b[0;34m(\u001b[0m\u001b[0mrango_de_angulos\u001b[0m\u001b[0;34m,\u001b[0m \u001b[0mrango_de_cargas\u001b[0m\u001b[0;34m)\u001b[0m\u001b[0;34m:\u001b[0m\u001b[0;34m\u001b[0m\u001b[0;34m\u001b[0m\u001b[0m\n\u001b[0;32m----> 3\u001b[0;31m     \u001b[0mAx\u001b[0m\u001b[0;34m,\u001b[0m \u001b[0mAy\u001b[0m\u001b[0;34m,\u001b[0m \u001b[0mDx\u001b[0m \u001b[0;34m=\u001b[0m \u001b[0mcalcular_reacciones\u001b[0m\u001b[0;34m(\u001b[0m\u001b[0mcarga\u001b[0m\u001b[0;34m,\u001b[0m \u001b[0mangulo\u001b[0m\u001b[0;34m)\u001b[0m\u001b[0;34m\u001b[0m\u001b[0;34m\u001b[0m\u001b[0m\n\u001b[0m\u001b[1;32m      4\u001b[0m     \u001b[0mCE\u001b[0m\u001b[0;34m,\u001b[0m \u001b[0mBC\u001b[0m \u001b[0;34m=\u001b[0m \u001b[0mobtener_fuerzas_nodo_C\u001b[0m\u001b[0;34m(\u001b[0m\u001b[0mcarga\u001b[0m\u001b[0;34m,\u001b[0m \u001b[0mangulo\u001b[0m\u001b[0;34m)\u001b[0m\u001b[0;34m\u001b[0m\u001b[0;34m\u001b[0m\u001b[0m\n\u001b[1;32m      5\u001b[0m     \u001b[0mBA\u001b[0m\u001b[0;34m,\u001b[0m \u001b[0mBE\u001b[0m \u001b[0;34m=\u001b[0m \u001b[0mobtener_fuerzas_nodo_B\u001b[0m\u001b[0;34m(\u001b[0m\u001b[0mBC\u001b[0m\u001b[0;34m)\u001b[0m\u001b[0;34m\u001b[0m\u001b[0;34m\u001b[0m\u001b[0m\n",
      "\u001b[0;31mTypeError\u001b[0m: calcular_reacciones() missing 1 required positional argument: 'distancia_AC'"
     ]
    }
   ],
   "source": [
    "fuerzas_internas = np.array([0, 0, 0, 0, 0, 0, 0])\n",
    "for angulo, carga in zip(rango_de_angulos, rango_de_cargas):\n",
    "    Ax, Ay, Dx = calcular_reacciones(carga, angulo)\n",
    "    CE, BC = obtener_fuerzas_nodo_C(carga, angulo)\n",
    "    BA, BE = obtener_fuerzas_nodo_B(BC)\n",
    "    EA, ED = obtener_fuerzas_nodo_E(CE)\n",
    "    DE, DA = obtener_fuerzas_nodo_D(Dx)\n",
    "    AE, AB = obtener_fuerzas_nodo_A(Ax, Ay)\n",
    "    fuerzas_internas = np.array([(\"AB\", BA), (\"AE\", EA), (\"AD\", DA), (\"BC\", BC), (\"BE\", BE), (\"CE\", CE), (\"ED\", ED)])\n",
    "    elementos_que_fallan = np.where(np.absolute(np.array([x[1] for x in fuerzas_internas], dtype=np.float64)) > fuerza_maxima)\n",
    "    if len(elementos_que_fallan) > 0:\n",
    "        print(f\"La primera falla se presenta bajo la carga de (carga) KN y la direccion de (angulo) grados\")\n",
    "    \n",
    "        for i in elementos_que_fallan[0]:\n",
    "            fuerza = fuerzas_internas[1][0].astype(float)\n",
    "            causa_falla = \"compresion\" if fuerza < 0 else \"traccion\"\n",
    "            print(f\"El elemento {fuerzas_internas[1][0]} fala bajo la carga {np.absolute(fuerza)} KN a {causa_falla}\")\n",
    "        print()"
   ]
  },
  {
   "cell_type": "code",
   "execution_count": null,
   "id": "58a845f8",
   "metadata": {},
   "outputs": [],
   "source": []
  }
 ],
 "metadata": {
  "kernelspec": {
   "display_name": "Python 3",
   "language": "python",
   "name": "python3"
  },
  "language_info": {
   "codemirror_mode": {
    "name": "ipython",
    "version": 3
   },
   "file_extension": ".py",
   "mimetype": "text/x-python",
   "name": "python",
   "nbconvert_exporter": "python",
   "pygments_lexer": "ipython3",
   "version": "3.6.13"
  }
 },
 "nbformat": 4,
 "nbformat_minor": 5
}
